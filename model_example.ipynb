{
 "cells": [
  {
   "cell_type": "markdown",
   "metadata": {},
   "source": [
    "### Основная модель рекомендаций \n",
    "#### Пример использования"
   ]
  },
  {
   "cell_type": "code",
   "execution_count": 1,
   "metadata": {},
   "outputs": [],
   "source": [
    "import model as mod"
   ]
  },
  {
   "cell_type": "markdown",
   "metadata": {},
   "source": [
    "Модель получает на вход имена трех файлов: <br>\n",
    "1)файл с рассчитанными соседями объектов/услуг (в примере это книги)<br>\n",
    "2)файл с рассчитанными соседями пользователей (в примере: читатели)<br>\n",
    "3)Историю использования услуг пользователями"
   ]
  },
  {
   "cell_type": "code",
   "execution_count": 2,
   "metadata": {
    "scrolled": true
   },
   "outputs": [
    {
     "name": "stdout",
     "output_type": "stream",
     "text": [
      "Загрузка файла метрик книг\n",
      "Загрузка файла метрик пользователей\n",
      "Загрузка истории пользователей\n"
     ]
    }
   ],
   "source": [
    "predictor = mod.predict_model('books_neighbors.csv', 'clients_neighbors.csv', 'usersid_booksid.csv')"
   ]
  },
  {
   "cell_type": "markdown",
   "metadata": {},
   "source": [
    "Метод $predict$ получает на вход $list$ с $id$ пользователей, для которых нужно составить рекомендации и максимальное кол-во рекомендаций <br>\n",
    "Возвращаемое значение: $list$ с рекомендациями для пользователей<br>\n",
    "Рекомендация в формате $pandas.Series$, где индексы - это индексы услуги/объекта, значения - рейтинг рекомендации"
   ]
  },
  {
   "cell_type": "code",
   "execution_count": 3,
   "metadata": {},
   "outputs": [
    {
     "data": {
      "text/plain": [
       "414061    1.000000\n",
       "424075    1.000000\n",
       "473886    0.923077\n",
       "500431    0.846154\n",
       "480930    0.846154\n",
       "410899    0.538462\n",
       "442889    0.461538\n",
       "468335    0.461538\n",
       "406853    0.461538\n",
       "442890    0.461538\n",
       "dtype: float64"
      ]
     },
     "execution_count": 3,
     "metadata": {},
     "output_type": "execute_result"
    }
   ],
   "source": [
    "pred = predictor.predict(['79379'], 10)[0]\n",
    "pred"
   ]
  },
  {
   "cell_type": "markdown",
   "metadata": {},
   "source": [
    "Пример 10 рекомендаций для пользователя 79379<br>\n",
    "Отобразим рейтинги и рекомендации в наглядном виде"
   ]
  },
  {
   "cell_type": "code",
   "execution_count": 4,
   "metadata": {},
   "outputs": [],
   "source": [
    "import pandas as pd\n",
    "import numpy as np\n",
    "import matplotlib.pyplot as plt"
   ]
  },
  {
   "cell_type": "code",
   "execution_count": 5,
   "metadata": {},
   "outputs": [],
   "source": [
    "cat = pd.read_excel('каталог.xlsx')"
   ]
  },
  {
   "cell_type": "code",
   "execution_count": 6,
   "metadata": {},
   "outputs": [],
   "source": [
    "cat['doc_id'] = cat['doc_id'].astype('str')\n",
    "cat = cat.set_index('doc_id')\n",
    "conn = pd.read_csv('usersid_booksid.csv', sep =';')\n",
    "conn['userid'] = conn['userid'].astype('int').astype('str')\n",
    "conn = conn.set_index('userid')"
   ]
  },
  {
   "cell_type": "code",
   "execution_count": 7,
   "metadata": {},
   "outputs": [
    {
     "name": "stdout",
     "output_type": "stream",
     "text": [
      "Автор: Устинова Татьяна Витальевна , Название: Пять шагов по облакам,  Жанр: Художественная литература\n",
      "Автор: Устинова Татьяна Витальевна , Название: Седьмое небо,  Жанр: Художественная литература\n"
     ]
    }
   ],
   "source": [
    "for bid in conn.loc['79379']['bookid'].split(','):\n",
    "    info = cat.loc[bid]\n",
    "    print('Автор: '+info['p100a']+' , Название: '+info['p245a']+',  Жанр: '+info['p650a'])"
   ]
  },
  {
   "cell_type": "code",
   "execution_count": 14,
   "metadata": {},
   "outputs": [
    {
     "data": {
      "image/png": "[encoded data removed]",
      "text/plain": [
       "<Figure size 720x288 with 1 Axes>"
      ]
     },
     "metadata": {
      "needs_background": "light"
     },
     "output_type": "display_data"
    }
   ],
   "source": [
    "names = [cat.loc[bid]['p245a'] for bid in pred.index][::-1]\n",
    "importances = pred.values\n",
    "indices = np.argsort(importances)\n",
    "\n",
    "plt.figure(figsize = (10, 4))\n",
    "plt.title(\"Рейтинг рекомендованных книг\")\n",
    "plt.barh(range(10), importances[indices])\n",
    "plt.yticks(range(10), names)\n",
    "plt.show()"
   ]
  },
  {
   "cell_type": "code",
   "execution_count": null,
   "metadata": {},
   "outputs": [],
   "source": []
  }
 ],
 "metadata": {
  "kernelspec": {
   "display_name": "Python 3",
   "language": "python",
   "name": "python3"
  },
  "language_info": {
   "codemirror_mode": {
    "name": "ipython",
    "version": 3
   },
   "file_extension": ".py",
   "mimetype": "text/x-python",
   "name": "python",
   "nbconvert_exporter": "python",
   "pygments_lexer": "ipython3",
   "version": "3.7.3"
  }
 },
 "nbformat": 4,
 "nbformat_minor": 2
}
